{
 "cells": [
  {
   "cell_type": "code",
   "execution_count": 1,
   "metadata": {},
   "outputs": [
    {
     "name": "stdout",
     "output_type": "stream",
     "text": [
      "Hello Word!\n"
     ]
    }
   ],
   "source": [
    "print(\"Hello Word!\")"
   ]
  },
  {
   "cell_type": "code",
   "execution_count": 3,
   "metadata": {},
   "outputs": [
    {
     "name": "stdout",
     "output_type": "stream",
     "text": [
      " O volume na unidade C n�o tem nome.\n",
      " O N�mero de S�rie do Volume � 5A3F-595C\n",
      "\n",
      " Pasta de c:\\Users\\23214290020\\Documents\\MACHINE LEARNING\\aula3\n",
      "\n",
      "07/03/2025  19:44    <DIR>          .\n",
      "07/03/2025  19:44    <DIR>          ..\n",
      "07/03/2025  19:59             1.050 aula3.ipynb\n",
      "07/03/2025  19:39                20 exemplo.py\n",
      "07/03/2025  19:44           823.107 marketing.csv\n",
      "               3 arquivo(s)        824.177 bytes\n",
      "               2 pasta(s)   131.483.512.832 bytes dispon�veis\n"
     ]
    }
   ],
   "source": [
    "!dir"
   ]
  },
  {
   "cell_type": "code",
   "execution_count": 5,
   "metadata": {},
   "outputs": [
    {
     "name": "stdout",
     "output_type": "stream",
     "text": [
      "Defaulting to user installation because normal site-packages is not writeable\n",
      "Collecting pandas\n",
      "  Downloading pandas-2.2.3-cp313-cp313-win_amd64.whl.metadata (19 kB)\n",
      "Requirement already satisfied: numpy>=1.26.0 in c:\\program files\\python313\\lib\\site-packages (from pandas) (2.2.0)\n",
      "Requirement already satisfied: python-dateutil>=2.8.2 in c:\\users\\23214290020\\appdata\\roaming\\python\\python313\\site-packages (from pandas) (2.9.0.post0)\n",
      "Collecting pytz>=2020.1 (from pandas)\n",
      "  Downloading pytz-2025.1-py2.py3-none-any.whl.metadata (22 kB)\n",
      "Collecting tzdata>=2022.7 (from pandas)\n",
      "  Downloading tzdata-2025.1-py2.py3-none-any.whl.metadata (1.4 kB)\n",
      "Requirement already satisfied: six>=1.5 in c:\\users\\23214290020\\appdata\\roaming\\python\\python313\\site-packages (from python-dateutil>=2.8.2->pandas) (1.17.0)\n",
      "Downloading pandas-2.2.3-cp313-cp313-win_amd64.whl (11.5 MB)\n",
      "   ---------------------------------------- 0.0/11.5 MB ? eta -:--:--\n",
      "   ----------------- ---------------------- 5.0/11.5 MB 29.2 MB/s eta 0:00:01\n",
      "   ---------------------------------------  11.3/11.5 MB 32.0 MB/s eta 0:00:01\n",
      "   ---------------------------------------  11.3/11.5 MB 32.0 MB/s eta 0:00:01\n",
      "   ---------------------------------------  11.3/11.5 MB 32.0 MB/s eta 0:00:01\n",
      "   ---------------------------------------  11.3/11.5 MB 32.0 MB/s eta 0:00:01\n",
      "   ---------------------------------------  11.3/11.5 MB 32.0 MB/s eta 0:00:01\n",
      "   ---------------------------------------  11.3/11.5 MB 32.0 MB/s eta 0:00:01\n",
      "   ---------------------------------------- 11.5/11.5 MB 7.9 MB/s eta 0:00:00\n",
      "Downloading pytz-2025.1-py2.py3-none-any.whl (507 kB)\n",
      "Downloading tzdata-2025.1-py2.py3-none-any.whl (346 kB)\n",
      "Installing collected packages: pytz, tzdata, pandas\n",
      "Successfully installed pandas-2.2.3 pytz-2025.1 tzdata-2025.1\n",
      "Note: you may need to restart the kernel to use updated packages.\n"
     ]
    },
    {
     "name": "stderr",
     "output_type": "stream",
     "text": [
      "\n",
      "[notice] A new release of pip is available: 24.3.1 -> 25.0.1\n",
      "[notice] To update, run: python.exe -m pip install --upgrade pip\n"
     ]
    }
   ],
   "source": [
    "pip install pandas"
   ]
  },
  {
   "cell_type": "code",
   "execution_count": 4,
   "metadata": {},
   "outputs": [],
   "source": [
    "import pandas as pd\n",
    "\n",
    "marketing = pd.read_csv('./marketing.csv')"
   ]
  },
  {
   "cell_type": "code",
   "execution_count": 10,
   "metadata": {},
   "outputs": [
    {
     "name": "stdout",
     "output_type": "stream",
     "text": [
      "      user_id date_served marketing_channel          variant converted  \\\n",
      "0  a100000029      1/1/18         House Ads  personalization      True   \n",
      "1  a100000030      1/1/18         House Ads  personalization      True   \n",
      "2  a100000031      1/1/18         House Ads  personalization      True   \n",
      "3  a100000032      1/1/18         House Ads  personalization      True   \n",
      "4  a100000033      1/1/18         House Ads  personalization      True   \n",
      "\n",
      "  language_displayed language_preferred    age_group date_subscribed  \\\n",
      "0            English            English   0-18 years          1/1/18   \n",
      "1            English            English  19-24 years          1/1/18   \n",
      "2            English            English  24-30 years          1/1/18   \n",
      "3            English            English  30-36 years          1/1/18   \n",
      "4            English            English  36-45 years          1/1/18   \n",
      "\n",
      "  date_canceled subscribing_channel is_retained  \n",
      "0           NaN           House Ads        True  \n",
      "1           NaN           House Ads        True  \n",
      "2           NaN           House Ads        True  \n",
      "3           NaN           House Ads        True  \n",
      "4           NaN           House Ads        True  \n"
     ]
    }
   ],
   "source": [
    "print(marketing.head(5))"
   ]
  },
  {
   "cell_type": "code",
   "execution_count": 12,
   "metadata": {},
   "outputs": [
    {
     "name": "stdout",
     "output_type": "stream",
     "text": [
      "           user_id date_served marketing_channel  variant converted  \\\n",
      "count        10037       10021             10022    10037     10022   \n",
      "unique        7309          31                 5        2         2   \n",
      "top     a100000882     1/15/18         House Ads  control     False   \n",
      "freq            12         789              4733     5091      8946   \n",
      "\n",
      "       language_displayed language_preferred    age_group date_subscribed  \\\n",
      "count               10037              10037        10037            1856   \n",
      "unique                  4                  4            7              31   \n",
      "top               English            English  19-24 years         1/16/18   \n",
      "freq                 9793               9275         1682             163   \n",
      "\n",
      "       date_canceled subscribing_channel is_retained  \n",
      "count            577                1856        1856  \n",
      "unique           115                   5           2  \n",
      "top           4/2/18           Instagram        True  \n",
      "freq              15                 600        1279  \n"
     ]
    }
   ],
   "source": [
    "print(marketing.describe(include='all'))"
   ]
  },
  {
   "cell_type": "code",
   "execution_count": 11,
   "metadata": {},
   "outputs": [
    {
     "name": "stdout",
     "output_type": "stream",
     "text": [
      "<class 'pandas.core.frame.DataFrame'>\n",
      "RangeIndex: 10037 entries, 0 to 10036\n",
      "Data columns (total 12 columns):\n",
      " #   Column               Non-Null Count  Dtype \n",
      "---  ------               --------------  ----- \n",
      " 0   user_id              10037 non-null  object\n",
      " 1   date_served          10021 non-null  object\n",
      " 2   marketing_channel    10022 non-null  object\n",
      " 3   variant              10037 non-null  object\n",
      " 4   converted            10022 non-null  object\n",
      " 5   language_displayed   10037 non-null  object\n",
      " 6   language_preferred   10037 non-null  object\n",
      " 7   age_group            10037 non-null  object\n",
      " 8   date_subscribed      1856 non-null   object\n",
      " 9   date_canceled        577 non-null    object\n",
      " 10  subscribing_channel  1856 non-null   object\n",
      " 11  is_retained          1856 non-null   object\n",
      "dtypes: object(12)\n",
      "memory usage: 941.1+ KB\n",
      "None\n"
     ]
    }
   ],
   "source": [
    "print(marketing.info())"
   ]
  },
  {
   "cell_type": "code",
   "execution_count": 5,
   "metadata": {},
   "outputs": [],
   "source": [
    "marketing['converted'] = marketing.converted.astype('bool')"
   ]
  },
  {
   "cell_type": "code",
   "execution_count": 2,
   "metadata": {},
   "outputs": [
    {
     "name": "stdout",
     "output_type": "stream",
     "text": [
      "Defaulting to user installation because normal site-packages is not writeable\n",
      "Requirement already satisfied: numpy in c:\\program files\\python313\\lib\\site-packages (2.2.0)\n",
      "Note: you may need to restart the kernel to use updated packages.\n"
     ]
    },
    {
     "name": "stderr",
     "output_type": "stream",
     "text": [
      "\n",
      "[notice] A new release of pip is available: 24.3.1 -> 25.0.1\n",
      "[notice] To update, run: python.exe -m pip install --upgrade pip\n"
     ]
    }
   ],
   "source": [
    "pip install numpy"
   ]
  },
  {
   "cell_type": "code",
   "execution_count": 1,
   "metadata": {},
   "outputs": [],
   "source": [
    "import numpy as np"
   ]
  },
  {
   "cell_type": "code",
   "execution_count": 18,
   "metadata": {},
   "outputs": [
    {
     "name": "stdout",
     "output_type": "stream",
     "text": [
      "object\n",
      "bool\n"
     ]
    }
   ],
   "source": [
    "# Verifique o tipo de dado da coluna is_retained\n",
    "print(marketing['is_retained'].dtype)\n",
    "\n",
    "# Converta is_retained para booleano\n",
    "marketing['is_retained'] = marketing['is_retained'].astype('bool')\n",
    "\n",
    "# Verifique novamente o tipo de dado da coluna is_retained\n",
    "print(marketing['is_retained'].dtype)"
   ]
  },
  {
   "cell_type": "code",
   "execution_count": 12,
   "metadata": {},
   "outputs": [],
   "source": [
    "# Mapping for channels\n",
    "channel_dict = {\"House Ads\": 1, \n",
    "                \"Instagram\": 2, \n",
    "                \"Facebook\": 3, \n",
    "                \"Email\": 4, \n",
    "                \"Push\": 5}\n",
    "\n",
    "# Map the channel to a channel code\n",
    "marketing['channel_code'] = marketing['subscribing_channel'].map(channel_dict)"
   ]
  },
  {
   "cell_type": "code",
   "execution_count": 13,
   "metadata": {},
   "outputs": [],
   "source": [
    "# Import numpy\n",
    "import numpy as np\n",
    "\n",
    "# Add the new column is_correct_lang\n",
    "marketing['is_correct_lang'] = np.where(\n",
    "    marketing['language_preferred'] == marketing['language_displayed'], \n",
    "    'Yes', \n",
    "    'No'\n",
    ")"
   ]
  }
 ],
 "metadata": {
  "kernelspec": {
   "display_name": "Python 3",
   "language": "python",
   "name": "python3"
  },
  "language_info": {
   "codemirror_mode": {
    "name": "ipython",
    "version": 3
   },
   "file_extension": ".py",
   "mimetype": "text/x-python",
   "name": "python",
   "nbconvert_exporter": "python",
   "pygments_lexer": "ipython3",
   "version": "3.13.1"
  }
 },
 "nbformat": 4,
 "nbformat_minor": 2
}
